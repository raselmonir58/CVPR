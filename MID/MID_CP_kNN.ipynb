{
  "nbformat": 4,
  "nbformat_minor": 0,
  "metadata": {
    "colab": {
      "provenance": []
    },
    "kernelspec": {
      "name": "python3",
      "display_name": "Python 3"
    },
    "language_info": {
      "name": "python"
    }
  },
  "cells": [
    {
      "cell_type": "code",
      "execution_count": 1,
      "metadata": {
        "colab": {
          "base_uri": "https://localhost:8080/"
        },
        "id": "eEY7_M85G60w",
        "outputId": "df4502aa-8b20-4d37-8ba0-e53770d0db1b"
      },
      "outputs": [
        {
          "output_type": "stream",
          "name": "stdout",
          "text": [
            "Requirement already satisfied: opencv_contrib_python in /usr/local/lib/python3.10/dist-packages (4.8.0.76)\n",
            "Requirement already satisfied: numpy>=1.21.2 in /usr/local/lib/python3.10/dist-packages (from opencv_contrib_python) (1.23.5)\n"
          ]
        }
      ],
      "source": [
        "pip install opencv_contrib_python"
      ]
    },
    {
      "cell_type": "code",
      "source": [
        "pip install tqdm\n"
      ],
      "metadata": {
        "colab": {
          "base_uri": "https://localhost:8080/"
        },
        "id": "ZAvopxKlHN4g",
        "outputId": "dd45498e-7413-4b6f-a78b-e7ed107a77d4"
      },
      "execution_count": 2,
      "outputs": [
        {
          "output_type": "stream",
          "name": "stdout",
          "text": [
            "Requirement already satisfied: tqdm in /usr/local/lib/python3.10/dist-packages (4.66.1)\n"
          ]
        }
      ]
    },
    {
      "cell_type": "code",
      "source": [
        "import numpy as np\n",
        "import matplotlib.pyplot as plt\n",
        "import os\n",
        "import cv2\n",
        "from tqdm import tqdm\n",
        "import math\n",
        "import random"
      ],
      "metadata": {
        "id": "9GqSepXXHRpS"
      },
      "execution_count": 3,
      "outputs": []
    },
    {
      "cell_type": "code",
      "source": [
        "TRAIN_DIR = r'D:\\CVPR\\CIFAR-10-images\\train'\n",
        "CATEGORIES = []\n",
        "for c in os.listdir(TRAIN_DIR):\n",
        "    CATEGORIES.append(c)\n",
        "print(CATEGORIES)"
      ],
      "metadata": {
        "id": "3kG9IRblHa3b"
      },
      "execution_count": null,
      "outputs": []
    },
    {
      "cell_type": "code",
      "source": [
        "TRAIN_DATA = []\n",
        "for c in CATEGORIES:\n",
        "    path = os.path.join(TRAIN_DIR,c)\n",
        "    class_num = CATEGORIES.index(c)\n",
        "    for img in tqdm(os.listdir(path)):\n",
        "        img_arr = cv2.imread(os.path.join(path,img))\n",
        "        TRAIN_DATA.append({\n",
        "            'image': img_arr,\n",
        "            'class': class_num\n",
        "        })\n",
        "print(len(TRAIN_DATA))"
      ],
      "metadata": {
        "id": "6V3kD2tTHj72"
      },
      "execution_count": null,
      "outputs": []
    }
  ]
}